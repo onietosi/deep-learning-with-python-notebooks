{
  "nbformat": 4,
  "nbformat_minor": 0,
  "metadata": {
    "colab": {
      "name": "5.3-using-a-pretrained-convnet.ipynb",
      "version": "0.3.2",
      "provenance": [],
      "toc_visible": true,
      "include_colab_link": true
    },
    "language_info": {
      "codemirror_mode": {
        "name": "ipython",
        "version": 3
      },
      "file_extension": ".py",
      "mimetype": "text/x-python",
      "name": "python",
      "nbconvert_exporter": "python",
      "pygments_lexer": "ipython3",
      "version": "3.5.2"
    },
    "kernelspec": {
      "name": "python3",
      "display_name": "Python 3"
    },
    "accelerator": "GPU"
  },
  "cells": [
    {
      "cell_type": "markdown",
      "metadata": {
        "id": "view-in-github",
        "colab_type": "text"
      },
      "source": [
        "<a href=\"https://colab.research.google.com/github/onietosi/deep-learning-with-python-notebooks/blob/master/5.3-using-a-pretrained-convnet.ipynb\" target=\"_parent\"><img src=\"https://colab.research.google.com/assets/colab-badge.svg\" alt=\"Open In Colab\"/></a>"
      ]
    },
    {
      "cell_type": "markdown",
      "metadata": {
        "id": "o7bqtrFjQ5yL",
        "colab_type": "text"
      },
      "source": [
        "# Preliminaries"
      ]
    },
    {
      "cell_type": "markdown",
      "metadata": {
        "id": "dhbpioVQQYtG",
        "colab_type": "text"
      },
      "source": [
        "## Check runtime is running on GPU and import keras"
      ]
    },
    {
      "cell_type": "code",
      "metadata": {
        "id": "hkOYGyKMQWlu",
        "colab_type": "code",
        "colab": {
          "base_uri": "https://localhost:8080/",
          "height": 35
        },
        "outputId": "9f9ed327-3607-42dd-e3e4-e392c6a427d3"
      },
      "source": [
        "import tensorflow as tf\n",
        "device_name = tf.test.gpu_device_name()\n",
        "if device_name != '/device:GPU:0':\n",
        "  raise SystemError('GPU device not found')\n",
        "print('Found GPU at: {}'.format(device_name))"
      ],
      "execution_count": 9,
      "outputs": [
        {
          "output_type": "stream",
          "text": [
            "Found GPU at: /device:GPU:0\n"
          ],
          "name": "stdout"
        }
      ]
    },
    {
      "cell_type": "code",
      "metadata": {
        "id": "KxdoHp7CQjBu",
        "colab_type": "code",
        "colab": {
          "base_uri": "https://localhost:8080/",
          "height": 53
        },
        "outputId": "5d711f8c-7bd4-4789-b0b0-7bf7b2d630d0"
      },
      "source": [
        "import keras\n",
        "keras.__version__"
      ],
      "execution_count": 10,
      "outputs": [
        {
          "output_type": "stream",
          "text": [
            "Using TensorFlow backend.\n"
          ],
          "name": "stderr"
        },
        {
          "output_type": "execute_result",
          "data": {
            "text/plain": [
              "'2.2.4'"
            ]
          },
          "metadata": {
            "tags": []
          },
          "execution_count": 10
        }
      ]
    },
    {
      "cell_type": "markdown",
      "metadata": {
        "id": "qFp2H8iKP5Kt",
        "colab_type": "text"
      },
      "source": [
        "## Download Kaggle dataset"
      ]
    },
    {
      "cell_type": "markdown",
      "metadata": {
        "id": "xYQGUyTWQCcq",
        "colab_type": "text"
      },
      "source": [
        "Upload Kaggle access token kaggle.json."
      ]
    },
    {
      "cell_type": "code",
      "metadata": {
        "id": "qwwyTNMvPien",
        "colab_type": "code",
        "colab": {}
      },
      "source": [
        "mv ./kaggle.json /root/.kaggle/kaggle.json"
      ],
      "execution_count": 0,
      "outputs": []
    },
    {
      "cell_type": "code",
      "metadata": {
        "id": "r17y1v_mPvnw",
        "colab_type": "code",
        "colab": {
          "base_uri": "https://localhost:8080/",
          "height": 73
        },
        "outputId": "98af7d4b-ce9b-4dee-edf6-c3f86325bb8b"
      },
      "source": [
        "!kaggle -v"
      ],
      "execution_count": 4,
      "outputs": [
        {
          "output_type": "stream",
          "text": [
            "Warning: Your Kaggle API key is readable by other users on this system! To fix this, you can run 'chmod 600 /root/.kaggle/kaggle.json'\n",
            "Kaggle API 1.5.4\n"
          ],
          "name": "stdout"
        }
      ]
    },
    {
      "cell_type": "code",
      "metadata": {
        "id": "8PXBBIWWP1Cb",
        "colab_type": "code",
        "colab": {}
      },
      "source": [
        "!chmod 600 /root/.kaggle/kaggle.json"
      ],
      "execution_count": 0,
      "outputs": []
    },
    {
      "cell_type": "code",
      "metadata": {
        "id": "DMkDZ52IQJMm",
        "colab_type": "code",
        "colab": {
          "base_uri": "https://localhost:8080/",
          "height": 181
        },
        "outputId": "e59644e9-c776-48da-c482-f992a8676a87"
      },
      "source": [
        "!kaggle competitions download  -c dogs-vs-cats -p /content/kaggle/dogscatsb"
      ],
      "execution_count": 7,
      "outputs": [
        {
          "output_type": "stream",
          "text": [
            "Downloading sampleSubmission.csv to /content/kaggle/dogscats\n",
            "\r  0% 0.00/86.8k [00:00<?, ?B/s]\n",
            "100% 86.8k/86.8k [00:00<00:00, 33.9MB/s]\n",
            "Downloading test1.zip to /content/kaggle/dogscats\n",
            "100% 271M/271M [00:02<00:00, 117MB/s] \n",
            "100% 271M/271M [00:02<00:00, 109MB/s]\n",
            "Downloading train.zip to /content/kaggle/dogscats\n",
            " 97% 528M/543M [00:14<00:00, 33.0MB/s]\n",
            "100% 543M/543M [00:14<00:00, 39.5MB/s]\n"
          ],
          "name": "stdout"
        }
      ]
    },
    {
      "cell_type": "markdown",
      "metadata": {
        "id": "nLzTYmGOQvwB",
        "colab_type": "text"
      },
      "source": [
        "## Extract data"
      ]
    },
    {
      "cell_type": "code",
      "metadata": {
        "id": "VD5w3OnkQ9ob",
        "colab_type": "code",
        "colab": {}
      },
      "source": [
        "import os, shutil"
      ],
      "execution_count": 0,
      "outputs": []
    },
    {
      "cell_type": "code",
      "metadata": {
        "id": "vlZu8eN3Q-Ya",
        "colab_type": "code",
        "colab": {}
      },
      "source": [
        "!unzip -q /content/kaggle/dogscats/train.zip -d /content/kaggle/dogscats"
      ],
      "execution_count": 0,
      "outputs": []
    },
    {
      "cell_type": "code",
      "metadata": {
        "id": "TC8XH4zWRDOh",
        "colab_type": "code",
        "colab": {}
      },
      "source": [
        "# The path to the directory where the original\n",
        "# dataset was uncompressed\n",
        "original_dataset_dir = '/content/kaggle/dogscats/train'\n",
        "\n",
        "# The directory where we will\n",
        "# store our smaller dataset\n",
        "base_dir = '/content/kaggle/dogscats/subset'\n",
        "if not os.path.exists(base_dir):\n",
        "  os.mkdir(base_dir)\n",
        "\n",
        "# Directories for our training,\n",
        "# validation and test splits\n",
        "train_dir = os.path.join(base_dir, 'train')\n",
        "if not os.path.exists(train_dir):\n",
        "  os.mkdir(train_dir)\n",
        "\n",
        "validation_dir = os.path.join(base_dir, 'validation')\n",
        "if not os.path.exists(validation_dir):\n",
        "  os.mkdir(validation_dir)\n",
        "\n",
        "test_dir = os.path.join(base_dir, 'test')\n",
        "if not os.path.exists(test_dir):\n",
        "  os.mkdir(test_dir)\n",
        "\n",
        "# Directory with our training cat pictures\n",
        "train_cats_dir = os.path.join(train_dir, 'cats')\n",
        "if not os.path.exists(train_cats_dir):\n",
        "  os.mkdir(train_cats_dir)\n",
        "\n",
        "# Directory with our training dog pictures\n",
        "train_dogs_dir = os.path.join(train_dir, 'dogs')\n",
        "if not os.path.exists(train_dogs_dir):\n",
        "  os.mkdir(train_dogs_dir)\n",
        "\n",
        "# Directory with our validation cat pictures\n",
        "validation_cats_dir = os.path.join(validation_dir, 'cats')\n",
        "if not os.path.exists(validation_cats_dir):\n",
        "  os.mkdir(validation_cats_dir)\n",
        "\n",
        "# Directory with our validation dog pictures\n",
        "validation_dogs_dir = os.path.join(validation_dir, 'dogs')\n",
        "if not os.path.exists(validation_dogs_dir):\n",
        "  os.mkdir(validation_dogs_dir)\n",
        "\n",
        "# Directory with our validation cat pictures\n",
        "test_cats_dir = os.path.join(test_dir, 'cats')\n",
        "if not os.path.exists(test_cats_dir):\n",
        "  os.mkdir(test_cats_dir)\n",
        "\n",
        "# Directory with our validation dog pictures\n",
        "test_dogs_dir = os.path.join(test_dir, 'dogs')\n",
        "if not os.path.exists(test_dogs_dir):\n",
        "  os.mkdir(test_dogs_dir)\n",
        "\n",
        "# Copy first 1000 cat images to train_cats_dir\n",
        "fnames = ['cat.{}.jpg'.format(i) for i in range(1000)]\n",
        "for fname in fnames:\n",
        "    src = os.path.join(original_dataset_dir, fname)\n",
        "    dst = os.path.join(train_cats_dir, fname)\n",
        "    shutil.copyfile(src, dst)\n",
        "\n",
        "# Copy next 500 cat images to validation_cats_dir\n",
        "fnames = ['cat.{}.jpg'.format(i) for i in range(1000, 1500)]\n",
        "for fname in fnames:\n",
        "    src = os.path.join(original_dataset_dir, fname)\n",
        "    dst = os.path.join(validation_cats_dir, fname)\n",
        "    shutil.copyfile(src, dst)\n",
        "    \n",
        "# Copy next 500 cat images to test_cats_dir\n",
        "fnames = ['cat.{}.jpg'.format(i) for i in range(1500, 2000)]\n",
        "for fname in fnames:\n",
        "    src = os.path.join(original_dataset_dir, fname)\n",
        "    dst = os.path.join(test_cats_dir, fname)\n",
        "    shutil.copyfile(src, dst)\n",
        "    \n",
        "# Copy first 1000 dog images to train_dogs_dir\n",
        "fnames = ['dog.{}.jpg'.format(i) for i in range(1000)]\n",
        "for fname in fnames:\n",
        "    src = os.path.join(original_dataset_dir, fname)\n",
        "    dst = os.path.join(train_dogs_dir, fname)\n",
        "    shutil.copyfile(src, dst)\n",
        "    \n",
        "# Copy next 500 dog images to validation_dogs_dir\n",
        "fnames = ['dog.{}.jpg'.format(i) for i in range(1000, 1500)]\n",
        "for fname in fnames:\n",
        "    src = os.path.join(original_dataset_dir, fname)\n",
        "    dst = os.path.join(validation_dogs_dir, fname)\n",
        "    shutil.copyfile(src, dst)\n",
        "    \n",
        "# Copy next 500 dog images to test_dogs_dir\n",
        "fnames = ['dog.{}.jpg'.format(i) for i in range(1500, 2000)]\n",
        "for fname in fnames:\n",
        "    src = os.path.join(original_dataset_dir, fname)\n",
        "    dst = os.path.join(test_dogs_dir, fname)\n",
        "    shutil.copyfile(src, dst)"
      ],
      "execution_count": 0,
      "outputs": []
    },
    {
      "cell_type": "code",
      "metadata": {
        "id": "5TxYUZkKGjjF",
        "colab_type": "code",
        "outputId": "b792670d-401e-4ff4-c48f-88e570c3a2a6",
        "colab": {
          "base_uri": "https://localhost:8080/",
          "height": 35
        }
      },
      "source": [
        "print('total training cat images:', len(os.listdir(train_cats_dir)))"
      ],
      "execution_count": 14,
      "outputs": [
        {
          "output_type": "stream",
          "text": [
            "total training cat images: 1000\n"
          ],
          "name": "stdout"
        }
      ]
    },
    {
      "cell_type": "code",
      "metadata": {
        "id": "NpXWNRBHGjjM",
        "colab_type": "code",
        "outputId": "cdb516a4-a36b-443f-c7b8-ff28dcd334c9",
        "colab": {
          "base_uri": "https://localhost:8080/",
          "height": 35
        }
      },
      "source": [
        "print('total training dog images:', len(os.listdir(train_dogs_dir)))"
      ],
      "execution_count": 15,
      "outputs": [
        {
          "output_type": "stream",
          "text": [
            "total training dog images: 1000\n"
          ],
          "name": "stdout"
        }
      ]
    },
    {
      "cell_type": "code",
      "metadata": {
        "id": "CZTVoWYXGjjS",
        "colab_type": "code",
        "outputId": "abeacdfd-017c-47a8-bc59-39cec57593f9",
        "colab": {
          "base_uri": "https://localhost:8080/",
          "height": 35
        }
      },
      "source": [
        "print('total validation cat images:', len(os.listdir(validation_cats_dir)))"
      ],
      "execution_count": 16,
      "outputs": [
        {
          "output_type": "stream",
          "text": [
            "total validation cat images: 500\n"
          ],
          "name": "stdout"
        }
      ]
    },
    {
      "cell_type": "code",
      "metadata": {
        "id": "-3pUgx3CGjja",
        "colab_type": "code",
        "outputId": "e250697e-a138-4500-90c6-6f10949ad92c",
        "colab": {
          "base_uri": "https://localhost:8080/",
          "height": 35
        }
      },
      "source": [
        "print('total validation dog images:', len(os.listdir(validation_dogs_dir)))"
      ],
      "execution_count": 18,
      "outputs": [
        {
          "output_type": "stream",
          "text": [
            "total validation dog images: 500\n"
          ],
          "name": "stdout"
        }
      ]
    },
    {
      "cell_type": "code",
      "metadata": {
        "id": "4XBnzuJSGjjg",
        "colab_type": "code",
        "outputId": "78c9ff34-755c-4536-d364-b6e8fafe4d54",
        "colab": {
          "base_uri": "https://localhost:8080/",
          "height": 35
        }
      },
      "source": [
        "print('total test cat images:', len(os.listdir(test_cats_dir)))"
      ],
      "execution_count": 19,
      "outputs": [
        {
          "output_type": "stream",
          "text": [
            "total test cat images: 500\n"
          ],
          "name": "stdout"
        }
      ]
    },
    {
      "cell_type": "code",
      "metadata": {
        "id": "vUGtNI3UGjjn",
        "colab_type": "code",
        "outputId": "ab0b3395-0180-4377-d117-f548aeda4542",
        "colab": {
          "base_uri": "https://localhost:8080/",
          "height": 35
        }
      },
      "source": [
        "print('total test dog images:', len(os.listdir(test_dogs_dir)))"
      ],
      "execution_count": 0,
      "outputs": [
        {
          "output_type": "stream",
          "text": [
            "total test dog images: 500\n"
          ],
          "name": "stdout"
        }
      ]
    },
    {
      "cell_type": "markdown",
      "metadata": {
        "id": "9GJHM9UEOwpy",
        "colab_type": "text"
      },
      "source": [
        "# Using a pre-trained convnet\n",
        "\n",
        "This notebook contains the code sample found in Chapter 5, Section 3 of [Deep Learning with Python](https://www.manning.com/books/deep-learning-with-python?a_aid=keras&a_bid=76564dff). Note that the original text features far more content, in particular further explanations and figures: in this notebook, you will only find source code and related comments.\n",
        "\n",
        "----\n",
        "\n",
        "A common and highly effective approach to deep learning on small image datasets is to leverage a pre-trained network. A pre-trained network \n",
        "is simply a saved network previously trained on a large dataset, typically on a large-scale image classification task. If this original \n",
        "dataset is large enough and general enough, then the spatial feature hierarchy learned by the pre-trained network can effectively act as a \n",
        "generic model of our visual world, and hence its features can prove useful for many different computer vision problems, even though these \n",
        "new problems might involve completely different classes from those of the original task. For instance, one might train a network on \n",
        "ImageNet (where classes are mostly animals and everyday objects) and then re-purpose this trained network for something as remote as \n",
        "identifying furniture items in images. Such portability of learned features across different problems is a key advantage of deep learning \n",
        "compared to many older shallow learning approaches, and it makes deep learning very effective for small-data problems.\n",
        "\n",
        "In our case, we will consider a large convnet trained on the ImageNet dataset (1.4 million labeled images and 1000 different classes). \n",
        "ImageNet contains many animal classes, including different species of cats and dogs, and we can thus expect to perform very well on our cat \n",
        "vs. dog classification problem.\n",
        "\n",
        "We will use the VGG16 architecture, developed by Karen Simonyan and Andrew Zisserman in 2014, a simple and widely used convnet architecture \n",
        "for ImageNet. Although it is a bit of an older model, far from the current state of the art and somewhat heavier than many other recent \n",
        "models, we chose it because its architecture is similar to what you are already familiar with, and easy to understand without introducing \n",
        "any new concepts. This may be your first encounter with one of these cutesie model names -- VGG, ResNet, Inception, Inception-ResNet, \n",
        "Xception... you will get used to them, as they will come up frequently if you keep doing deep learning for computer vision.\n",
        "\n",
        "There are two ways to leverage a pre-trained network: *feature extraction* and *fine-tuning*. We will cover both of them. Let's start with \n",
        "feature extraction."
      ]
    },
    {
      "cell_type": "markdown",
      "metadata": {
        "id": "ZebgxYSbOwp0",
        "colab_type": "text"
      },
      "source": [
        "## Feature extraction\n",
        "\n",
        "Feature extraction consists of using the representations learned by a previous network to extract interesting features from new samples. \n",
        "These features are then run through a new classifier, which is trained from scratch.\n",
        "\n",
        "As we saw previously, convnets used for image classification comprise two parts: they start with a series of pooling and convolution \n",
        "layers, and they end with a densely-connected classifier. The first part is called the \"convolutional base\" of the model. In the case of \n",
        "convnets, \"feature extraction\" will simply consist of taking the convolutional base of a previously-trained network, running the new data \n",
        "through it, and training a new classifier on top of the output.\n",
        "\n",
        "![swapping FC classifiers](https://s3.amazonaws.com/book.keras.io/img/ch5/swapping_fc_classifier.png)\n",
        "\n",
        "Why only reuse the convolutional base? Could we reuse the densely-connected classifier as well? In general, it should be avoided. The \n",
        "reason is simply that the representations learned by the convolutional base are likely to be more generic and therefore more reusable: the \n",
        "feature maps of a convnet are presence maps of generic concepts over a picture, which is likely to be useful regardless of the computer \n",
        "vision problem at hand. On the other end, the representations learned by the classifier will necessarily be very specific to the set of \n",
        "classes that the model was trained on -- they will only contain information about the presence probability of this or that class in the \n",
        "entire picture. Additionally, representations found in densely-connected layers no longer contain any information about _where_ objects are \n",
        "located in the input image: these layers get rid of the notion of space, whereas the object location is still described by convolutional \n",
        "feature maps. For problems where object location matters, densely-connected features would be largely useless.\n",
        "\n",
        "Note that the level of generality (and therefore reusability) of the representations extracted by specific convolution layers depends on \n",
        "the depth of the layer in the model. Layers that come earlier in the model extract local, highly generic feature maps (such as visual \n",
        "edges, colors, and textures), while layers higher-up extract more abstract concepts (such as \"cat ear\" or \"dog eye\"). So if your new \n",
        "dataset differs a lot from the dataset that the original model was trained on, you may be better off using only the first few layers of the \n",
        "model to do feature extraction, rather than using the entire convolutional base.\n",
        "\n",
        "In our case, since the ImageNet class set did contain multiple dog and cat classes, it is likely that it would be beneficial to reuse the \n",
        "information contained in the densely-connected layers of the original model. However, we will chose not to, in order to cover the more \n",
        "general case where the class set of the new problem does not overlap with the class set of the original model."
      ]
    },
    {
      "cell_type": "markdown",
      "metadata": {
        "id": "ueyJRoszOwp2",
        "colab_type": "text"
      },
      "source": [
        "Let's put this in practice by using the convolutional base of the VGG16 network, trained on ImageNet, to extract interesting features from \n",
        "our cat and dog images, and then training a cat vs. dog classifier on top of these features.\n",
        "\n",
        "The VGG16 model, among others, comes pre-packaged with Keras. You can import it from the `keras.applications` module. Here's the list of \n",
        "image classification models (all pre-trained on the ImageNet dataset) that are available as part of `keras.applications`:\n",
        "\n",
        "* Xception\n",
        "* InceptionV3\n",
        "* ResNet50\n",
        "* VGG16\n",
        "* VGG19\n",
        "* MobileNet\n",
        "\n",
        "Let's instantiate the VGG16 model:"
      ]
    },
    {
      "cell_type": "code",
      "metadata": {
        "id": "QH3XHJFOOwp4",
        "colab_type": "code",
        "colab": {
          "base_uri": "https://localhost:8080/",
          "height": 310
        },
        "outputId": "cc7a1db5-a286-494b-c29c-1c15395bc650"
      },
      "source": [
        "from keras.applications import VGG16\n",
        "\n",
        "conv_base = VGG16(weights='imagenet',\n",
        "                  include_top=False,\n",
        "                  input_shape=(150, 150, 3))"
      ],
      "execution_count": 20,
      "outputs": [
        {
          "output_type": "stream",
          "text": [
            "WARNING: Logging before flag parsing goes to stderr.\n",
            "W0628 08:48:04.130437 140577419925376 deprecation_wrapper.py:119] From /usr/local/lib/python3.6/dist-packages/keras/backend/tensorflow_backend.py:74: The name tf.get_default_graph is deprecated. Please use tf.compat.v1.get_default_graph instead.\n",
            "\n",
            "W0628 08:48:04.135722 140577419925376 deprecation_wrapper.py:119] From /usr/local/lib/python3.6/dist-packages/keras/backend/tensorflow_backend.py:517: The name tf.placeholder is deprecated. Please use tf.compat.v1.placeholder instead.\n",
            "\n",
            "W0628 08:48:04.144317 140577419925376 deprecation_wrapper.py:119] From /usr/local/lib/python3.6/dist-packages/keras/backend/tensorflow_backend.py:4138: The name tf.random_uniform is deprecated. Please use tf.random.uniform instead.\n",
            "\n",
            "W0628 08:48:04.181787 140577419925376 deprecation_wrapper.py:119] From /usr/local/lib/python3.6/dist-packages/keras/backend/tensorflow_backend.py:3976: The name tf.nn.max_pool is deprecated. Please use tf.nn.max_pool2d instead.\n",
            "\n"
          ],
          "name": "stderr"
        },
        {
          "output_type": "stream",
          "text": [
            "Downloading data from https://github.com/fchollet/deep-learning-models/releases/download/v0.1/vgg16_weights_tf_dim_ordering_tf_kernels_notop.h5\n",
            "58892288/58889256 [==============================] - 1s 0us/step\n"
          ],
          "name": "stdout"
        },
        {
          "output_type": "stream",
          "text": [
            "W0628 08:48:05.497823 140577419925376 deprecation_wrapper.py:119] From /usr/local/lib/python3.6/dist-packages/keras/backend/tensorflow_backend.py:174: The name tf.get_default_session is deprecated. Please use tf.compat.v1.get_default_session instead.\n",
            "\n",
            "W0628 08:48:05.498902 140577419925376 deprecation_wrapper.py:119] From /usr/local/lib/python3.6/dist-packages/keras/backend/tensorflow_backend.py:181: The name tf.ConfigProto is deprecated. Please use tf.compat.v1.ConfigProto instead.\n",
            "\n"
          ],
          "name": "stderr"
        }
      ]
    },
    {
      "cell_type": "markdown",
      "metadata": {
        "id": "_ogG9nN_OwqA",
        "colab_type": "text"
      },
      "source": [
        "We passed three arguments to the constructor:\n",
        "\n",
        "* `weights`, to specify which weight checkpoint to initialize the model from\n",
        "* `include_top`, which refers to including or not the densely-connected classifier on top of the network. By default, this \n",
        "densely-connected classifier would correspond to the 1000 classes from ImageNet. Since we intend to use our own densely-connected \n",
        "classifier (with only two classes, cat and dog), we don't need to include it.\n",
        "* `input_shape`, the shape of the image tensors that we will feed to the network. This argument is purely optional: if we don't pass it, \n",
        "then the network will be able to process inputs of any size.\n",
        "\n",
        "Here's the detail of the architecture of the VGG16 convolutional base: it's very similar to the simple convnets that you are already \n",
        "familiar with."
      ]
    },
    {
      "cell_type": "code",
      "metadata": {
        "id": "eMUzDvEmOwqC",
        "colab_type": "code",
        "colab": {
          "base_uri": "https://localhost:8080/",
          "height": 835
        },
        "outputId": "2d778dee-186b-41e0-8c30-c50f1a219a7a"
      },
      "source": [
        "conv_base.summary()"
      ],
      "execution_count": 21,
      "outputs": [
        {
          "output_type": "stream",
          "text": [
            "_________________________________________________________________\n",
            "Layer (type)                 Output Shape              Param #   \n",
            "=================================================================\n",
            "input_1 (InputLayer)         (None, 150, 150, 3)       0         \n",
            "_________________________________________________________________\n",
            "block1_conv1 (Conv2D)        (None, 150, 150, 64)      1792      \n",
            "_________________________________________________________________\n",
            "block1_conv2 (Conv2D)        (None, 150, 150, 64)      36928     \n",
            "_________________________________________________________________\n",
            "block1_pool (MaxPooling2D)   (None, 75, 75, 64)        0         \n",
            "_________________________________________________________________\n",
            "block2_conv1 (Conv2D)        (None, 75, 75, 128)       73856     \n",
            "_________________________________________________________________\n",
            "block2_conv2 (Conv2D)        (None, 75, 75, 128)       147584    \n",
            "_________________________________________________________________\n",
            "block2_pool (MaxPooling2D)   (None, 37, 37, 128)       0         \n",
            "_________________________________________________________________\n",
            "block3_conv1 (Conv2D)        (None, 37, 37, 256)       295168    \n",
            "_________________________________________________________________\n",
            "block3_conv2 (Conv2D)        (None, 37, 37, 256)       590080    \n",
            "_________________________________________________________________\n",
            "block3_conv3 (Conv2D)        (None, 37, 37, 256)       590080    \n",
            "_________________________________________________________________\n",
            "block3_pool (MaxPooling2D)   (None, 18, 18, 256)       0         \n",
            "_________________________________________________________________\n",
            "block4_conv1 (Conv2D)        (None, 18, 18, 512)       1180160   \n",
            "_________________________________________________________________\n",
            "block4_conv2 (Conv2D)        (None, 18, 18, 512)       2359808   \n",
            "_________________________________________________________________\n",
            "block4_conv3 (Conv2D)        (None, 18, 18, 512)       2359808   \n",
            "_________________________________________________________________\n",
            "block4_pool (MaxPooling2D)   (None, 9, 9, 512)         0         \n",
            "_________________________________________________________________\n",
            "block5_conv1 (Conv2D)        (None, 9, 9, 512)         2359808   \n",
            "_________________________________________________________________\n",
            "block5_conv2 (Conv2D)        (None, 9, 9, 512)         2359808   \n",
            "_________________________________________________________________\n",
            "block5_conv3 (Conv2D)        (None, 9, 9, 512)         2359808   \n",
            "_________________________________________________________________\n",
            "block5_pool (MaxPooling2D)   (None, 4, 4, 512)         0         \n",
            "=================================================================\n",
            "Total params: 14,714,688\n",
            "Trainable params: 14,714,688\n",
            "Non-trainable params: 0\n",
            "_________________________________________________________________\n"
          ],
          "name": "stdout"
        }
      ]
    },
    {
      "cell_type": "markdown",
      "metadata": {
        "id": "U9aWHlIZOwqK",
        "colab_type": "text"
      },
      "source": [
        "The final feature map has shape `(4, 4, 512)`. That's the feature on top of which we will stick a densely-connected classifier.\n",
        "\n",
        "At this point, there are two ways we could proceed: \n",
        "\n",
        "* Running the convolutional base over our dataset, recording its output to a Numpy array on disk, then using this data as input to a \n",
        "standalone densely-connected classifier similar to those you have seen in the first chapters of this book. This solution is very fast and \n",
        "cheap to run, because it only requires running the convolutional base once for every input image, and the convolutional base is by far the \n",
        "most expensive part of the pipeline. However, for the exact same reason, this technique would not allow us to leverage data augmentation at \n",
        "all.\n",
        "* Extending the model we have (`conv_base`) by adding `Dense` layers on top, and running the whole thing end-to-end on the input data. This \n",
        "allows us to use data augmentation, because every input image is going through the convolutional base every time it is seen by the model. \n",
        "However, for this same reason, this technique is far more expensive than the first one.\n",
        "\n",
        "We will cover both techniques. Let's walk through the code required to set-up the first one: recording the output of `conv_base` on our \n",
        "data and using these outputs as inputs to a new model.\n",
        "\n",
        "We will start by simply running instances of the previously-introduced `ImageDataGenerator` to extract images as Numpy arrays as well as \n",
        "their labels. We will extract features from these images simply by calling the `predict` method of the `conv_base` model."
      ]
    },
    {
      "cell_type": "code",
      "metadata": {
        "id": "0J-Cb3hUOwqL",
        "colab_type": "code",
        "colab": {
          "base_uri": "https://localhost:8080/",
          "height": 72
        },
        "outputId": "9204ec6f-96e7-4491-f7b2-88e6a346a7b6"
      },
      "source": [
        "import os\n",
        "import numpy as np\n",
        "from keras.preprocessing.image import ImageDataGenerator\n",
        "\n",
        "base_dir = '/content/kaggle/dogscats/subset'\n",
        "\n",
        "train_dir = os.path.join(base_dir, 'train')\n",
        "validation_dir = os.path.join(base_dir, 'validation')\n",
        "test_dir = os.path.join(base_dir, 'test')\n",
        "\n",
        "datagen = ImageDataGenerator(rescale=1./255)\n",
        "batch_size = 20\n",
        "\n",
        "def extract_features(directory, sample_count):\n",
        "    features = np.zeros(shape=(sample_count, 4, 4, 512))\n",
        "    labels = np.zeros(shape=(sample_count))\n",
        "    generator = datagen.flow_from_directory(\n",
        "        directory,\n",
        "        target_size=(150, 150),\n",
        "        batch_size=batch_size,\n",
        "        class_mode='binary')\n",
        "    i = 0\n",
        "    for inputs_batch, labels_batch in generator:\n",
        "        features_batch = conv_base.predict(inputs_batch)\n",
        "        features[i * batch_size : (i + 1) * batch_size] = features_batch\n",
        "        labels[i * batch_size : (i + 1) * batch_size] = labels_batch\n",
        "        i += 1\n",
        "        if i * batch_size >= sample_count:\n",
        "            # Note that since generators yield data indefinitely in a loop,\n",
        "            # we must `break` after every image has been seen once.\n",
        "            break\n",
        "    return features, labels\n",
        "\n",
        "train_features, train_labels = extract_features(train_dir, 2000)\n",
        "validation_features, validation_labels = extract_features(validation_dir, 1000)\n",
        "test_features, test_labels = extract_features(test_dir, 1000)"
      ],
      "execution_count": 22,
      "outputs": [
        {
          "output_type": "stream",
          "text": [
            "Found 2000 images belonging to 2 classes.\n",
            "Found 1000 images belonging to 2 classes.\n",
            "Found 1000 images belonging to 2 classes.\n"
          ],
          "name": "stdout"
        }
      ]
    },
    {
      "cell_type": "markdown",
      "metadata": {
        "id": "c7tmVD24OwqZ",
        "colab_type": "text"
      },
      "source": [
        "The extracted features are currently of shape `(samples, 4, 4, 512)`. We will feed them to a densely-connected classifier, so first we must \n",
        "flatten them to `(samples, 8192)`:"
      ]
    },
    {
      "cell_type": "code",
      "metadata": {
        "id": "MIHZ2CX5Owqc",
        "colab_type": "code",
        "colab": {}
      },
      "source": [
        "train_features = np.reshape(train_features, (2000, 4 * 4 * 512))\n",
        "validation_features = np.reshape(validation_features, (1000, 4 * 4 * 512))\n",
        "test_features = np.reshape(test_features, (1000, 4 * 4 * 512))"
      ],
      "execution_count": 0,
      "outputs": []
    },
    {
      "cell_type": "markdown",
      "metadata": {
        "id": "HvDLUxkROwqo",
        "colab_type": "text"
      },
      "source": [
        "At this point, we can define our densely-connected classifier (note the use of dropout for regularization), and train it on the data and \n",
        "labels that we just recorded:"
      ]
    },
    {
      "cell_type": "code",
      "metadata": {
        "id": "DgwRKuGbOwqq",
        "colab_type": "code",
        "colab": {
          "base_uri": "https://localhost:8080/",
          "height": 1000
        },
        "outputId": "24b416f2-cadf-4274-9e68-5ce27eae76c1"
      },
      "source": [
        "from keras import models\n",
        "from keras import layers\n",
        "from keras import optimizers\n",
        "\n",
        "model = models.Sequential()\n",
        "model.add(layers.Dense(256, activation='relu', input_dim=4 * 4 * 512))\n",
        "model.add(layers.Dropout(0.5))\n",
        "model.add(layers.Dense(1, activation='sigmoid'))\n",
        "\n",
        "model.compile(optimizer=optimizers.RMSprop(lr=2e-5),\n",
        "              loss='binary_crossentropy',\n",
        "              metrics=['acc'])\n",
        "\n",
        "history = model.fit(train_features, train_labels,\n",
        "                    epochs=30,\n",
        "                    batch_size=20,\n",
        "                    validation_data=(validation_features, validation_labels))"
      ],
      "execution_count": 24,
      "outputs": [
        {
          "output_type": "stream",
          "text": [
            "W0628 08:58:11.603560 140577419925376 deprecation.py:506] From /usr/local/lib/python3.6/dist-packages/keras/backend/tensorflow_backend.py:3445: calling dropout (from tensorflow.python.ops.nn_ops) with keep_prob is deprecated and will be removed in a future version.\n",
            "Instructions for updating:\n",
            "Please use `rate` instead of `keep_prob`. Rate should be set to `rate = 1 - keep_prob`.\n",
            "W0628 08:58:11.638642 140577419925376 deprecation_wrapper.py:119] From /usr/local/lib/python3.6/dist-packages/keras/optimizers.py:790: The name tf.train.Optimizer is deprecated. Please use tf.compat.v1.train.Optimizer instead.\n",
            "\n",
            "W0628 08:58:11.647429 140577419925376 deprecation.py:323] From /usr/local/lib/python3.6/dist-packages/tensorflow/python/ops/nn_impl.py:180: add_dispatch_support.<locals>.wrapper (from tensorflow.python.ops.array_ops) is deprecated and will be removed in a future version.\n",
            "Instructions for updating:\n",
            "Use tf.where in 2.0, which has the same broadcast rule as np.where\n"
          ],
          "name": "stderr"
        },
        {
          "output_type": "stream",
          "text": [
            "Train on 2000 samples, validate on 1000 samples\n",
            "Epoch 1/30\n",
            "2000/2000 [==============================] - 2s 810us/step - loss: 0.6088 - acc: 0.6595 - val_loss: 0.4535 - val_acc: 0.8220\n",
            "Epoch 2/30\n",
            "2000/2000 [==============================] - 1s 284us/step - loss: 0.4413 - acc: 0.8025 - val_loss: 0.3673 - val_acc: 0.8610\n",
            "Epoch 3/30\n",
            "2000/2000 [==============================] - 1s 279us/step - loss: 0.3668 - acc: 0.8420 - val_loss: 0.3314 - val_acc: 0.8700\n",
            "Epoch 4/30\n",
            "2000/2000 [==============================] - 1s 274us/step - loss: 0.3154 - acc: 0.8785 - val_loss: 0.3047 - val_acc: 0.8840\n",
            "Epoch 5/30\n",
            "2000/2000 [==============================] - 1s 283us/step - loss: 0.2912 - acc: 0.8845 - val_loss: 0.2872 - val_acc: 0.8840\n",
            "Epoch 6/30\n",
            "2000/2000 [==============================] - 1s 279us/step - loss: 0.2736 - acc: 0.8955 - val_loss: 0.2758 - val_acc: 0.8890\n",
            "Epoch 7/30\n",
            "2000/2000 [==============================] - 1s 286us/step - loss: 0.2516 - acc: 0.8985 - val_loss: 0.2802 - val_acc: 0.8850\n",
            "Epoch 8/30\n",
            "2000/2000 [==============================] - 1s 280us/step - loss: 0.2310 - acc: 0.9110 - val_loss: 0.2625 - val_acc: 0.8960\n",
            "Epoch 9/30\n",
            "2000/2000 [==============================] - 1s 292us/step - loss: 0.2176 - acc: 0.9155 - val_loss: 0.2555 - val_acc: 0.8950\n",
            "Epoch 10/30\n",
            "2000/2000 [==============================] - 1s 285us/step - loss: 0.2051 - acc: 0.9250 - val_loss: 0.2669 - val_acc: 0.8870\n",
            "Epoch 11/30\n",
            "2000/2000 [==============================] - 1s 292us/step - loss: 0.1929 - acc: 0.9295 - val_loss: 0.2484 - val_acc: 0.8990\n",
            "Epoch 12/30\n",
            "2000/2000 [==============================] - 1s 284us/step - loss: 0.1876 - acc: 0.9335 - val_loss: 0.2453 - val_acc: 0.8990\n",
            "Epoch 13/30\n",
            "2000/2000 [==============================] - 1s 278us/step - loss: 0.1799 - acc: 0.9345 - val_loss: 0.2452 - val_acc: 0.9010\n",
            "Epoch 14/30\n",
            "2000/2000 [==============================] - 1s 284us/step - loss: 0.1689 - acc: 0.9405 - val_loss: 0.2420 - val_acc: 0.8990\n",
            "Epoch 15/30\n",
            "2000/2000 [==============================] - 1s 279us/step - loss: 0.1629 - acc: 0.9455 - val_loss: 0.2449 - val_acc: 0.9030\n",
            "Epoch 16/30\n",
            "2000/2000 [==============================] - 1s 289us/step - loss: 0.1571 - acc: 0.9400 - val_loss: 0.2397 - val_acc: 0.9040\n",
            "Epoch 17/30\n",
            "2000/2000 [==============================] - 1s 281us/step - loss: 0.1485 - acc: 0.9460 - val_loss: 0.2391 - val_acc: 0.9000\n",
            "Epoch 18/30\n",
            "2000/2000 [==============================] - 1s 280us/step - loss: 0.1440 - acc: 0.9545 - val_loss: 0.2407 - val_acc: 0.9040\n",
            "Epoch 19/30\n",
            "2000/2000 [==============================] - 1s 286us/step - loss: 0.1367 - acc: 0.9570 - val_loss: 0.2405 - val_acc: 0.9050\n",
            "Epoch 20/30\n",
            "2000/2000 [==============================] - 1s 291us/step - loss: 0.1307 - acc: 0.9540 - val_loss: 0.2377 - val_acc: 0.9020\n",
            "Epoch 21/30\n",
            "2000/2000 [==============================] - 1s 286us/step - loss: 0.1290 - acc: 0.9595 - val_loss: 0.2494 - val_acc: 0.9020\n",
            "Epoch 22/30\n",
            "2000/2000 [==============================] - 1s 280us/step - loss: 0.1202 - acc: 0.9585 - val_loss: 0.2372 - val_acc: 0.9020\n",
            "Epoch 23/30\n",
            "2000/2000 [==============================] - 1s 287us/step - loss: 0.1139 - acc: 0.9625 - val_loss: 0.2411 - val_acc: 0.9060\n",
            "Epoch 24/30\n",
            "2000/2000 [==============================] - 1s 283us/step - loss: 0.1169 - acc: 0.9585 - val_loss: 0.2418 - val_acc: 0.9080\n",
            "Epoch 25/30\n",
            "2000/2000 [==============================] - 1s 291us/step - loss: 0.1094 - acc: 0.9650 - val_loss: 0.2374 - val_acc: 0.9010\n",
            "Epoch 26/30\n",
            "2000/2000 [==============================] - 1s 284us/step - loss: 0.1015 - acc: 0.9680 - val_loss: 0.2463 - val_acc: 0.9020\n",
            "Epoch 27/30\n",
            "2000/2000 [==============================] - 1s 279us/step - loss: 0.1017 - acc: 0.9685 - val_loss: 0.2383 - val_acc: 0.9010\n",
            "Epoch 28/30\n",
            "2000/2000 [==============================] - 1s 285us/step - loss: 0.1015 - acc: 0.9695 - val_loss: 0.2425 - val_acc: 0.9020\n",
            "Epoch 29/30\n",
            "2000/2000 [==============================] - 1s 293us/step - loss: 0.0918 - acc: 0.9730 - val_loss: 0.2446 - val_acc: 0.9040\n",
            "Epoch 30/30\n",
            "2000/2000 [==============================] - 1s 292us/step - loss: 0.0908 - acc: 0.9700 - val_loss: 0.2421 - val_acc: 0.9020\n"
          ],
          "name": "stdout"
        }
      ]
    },
    {
      "cell_type": "markdown",
      "metadata": {
        "id": "WNdEMlfLOwqz",
        "colab_type": "text"
      },
      "source": [
        "Training is very fast, since we only have to deal with two `Dense` layers -- an epoch takes less than one second even on CPU.\n",
        "\n",
        "Let's take a look at the loss and accuracy curves during training:"
      ]
    },
    {
      "cell_type": "code",
      "metadata": {
        "id": "NeofRckZOwq2",
        "colab_type": "code",
        "colab": {
          "base_uri": "https://localhost:8080/",
          "height": 545
        },
        "outputId": "d16c3e45-4e08-4633-a49b-634ba91e6eac"
      },
      "source": [
        "import matplotlib.pyplot as plt\n",
        "\n",
        "acc = history.history['acc']\n",
        "val_acc = history.history['val_acc']\n",
        "loss = history.history['loss']\n",
        "val_loss = history.history['val_loss']\n",
        "\n",
        "epochs = range(len(acc))\n",
        "\n",
        "plt.plot(epochs, acc, 'bo', label='Training acc')\n",
        "plt.plot(epochs, val_acc, 'b', label='Validation acc')\n",
        "plt.title('Training and validation accuracy')\n",
        "plt.legend()\n",
        "\n",
        "plt.figure()\n",
        "\n",
        "plt.plot(epochs, loss, 'bo', label='Training loss')\n",
        "plt.plot(epochs, val_loss, 'b', label='Validation loss')\n",
        "plt.title('Training and validation loss')\n",
        "plt.legend()\n",
        "\n",
        "plt.show()"
      ],
      "execution_count": 25,
      "outputs": [
        {
          "output_type": "display_data",
          "data": {
            "image/png": "[encoded data removed]",
            "text/plain": [
              "<Figure size 432x288 with 1 Axes>"
            ]
          },
          "metadata": {
            "tags": []
          }
        },
        {
          "output_type": "display_data",
          "data": {
            "image/png": "[encoded data removed]",
            "text/plain": [
              "<Figure size 432x288 with 1 Axes>"
            ]
          },
          "metadata": {
            "tags": []
          }
        }
      ]
    },
    {
      "cell_type": "markdown",
      "metadata": {
        "id": "93GYmHFcOwq9",
        "colab_type": "text"
      },
      "source": [
        "\n",
        "We reach a validation accuracy of about 90%, much better than what we could achieve in the previous section with our small model trained from \n",
        "scratch. However, our plots also indicate that we are overfitting almost from the start -- despite using dropout with a fairly large rate. \n",
        "This is because this technique does not leverage data augmentation, which is essential to preventing overfitting with small image datasets.\n",
        "\n",
        "Now, let's review the second technique we mentioned for doing feature extraction, which is much slower and more expensive, but which allows \n",
        "us to leverage data augmentation during training: extending the `conv_base` model and running it end-to-end on the inputs. Note that this \n",
        "technique is in fact so expensive that you should only attempt it if you have access to a GPU: it is absolutely intractable on CPU. If you \n",
        "cannot run your code on GPU, then the previous technique is the way to go.\n",
        "\n",
        "Because models behave just like layers, you can add a model (like our `conv_base`) to a `Sequential` model just like you would add a layer. \n",
        "So you can do the following:"
      ]
    },
    {
      "cell_type": "code",
      "metadata": {
        "id": "4GadeAokOwq9",
        "colab_type": "code",
        "colab": {}
      },
      "source": [
        "from keras import models\n",
        "from keras import layers\n",
        "\n",
        "model = models.Sequential()\n",
        "model.add(conv_base)\n",
        "model.add(layers.Flatten())\n",
        "model.add(layers.Dense(256, activation='relu'))\n",
        "model.add(layers.Dense(1, activation='sigmoid'))"
      ],
      "execution_count": 0,
      "outputs": []
    },
    {
      "cell_type": "markdown",
      "metadata": {
        "id": "Qsp9QErfOwrC",
        "colab_type": "text"
      },
      "source": [
        "This is what our model looks like now:"
      ]
    },
    {
      "cell_type": "code",
      "metadata": {
        "id": "C3LsOTIOOwrD",
        "colab_type": "code",
        "colab": {
          "base_uri": "https://localhost:8080/",
          "height": 290
        },
        "outputId": "e5e9bbd8-f617-4fc1-a016-abe4368df314"
      },
      "source": [
        "model.summary()"
      ],
      "execution_count": 38,
      "outputs": [
        {
          "output_type": "stream",
          "text": [
            "_________________________________________________________________\n",
            "Layer (type)                 Output Shape              Param #   \n",
            "=================================================================\n",
            "vgg16 (Model)                (None, 4, 4, 512)         14714688  \n",
            "_________________________________________________________________\n",
            "flatten_2 (Flatten)          (None, 8192)              0         \n",
            "_________________________________________________________________\n",
            "dense_5 (Dense)              (None, 256)               2097408   \n",
            "_________________________________________________________________\n",
            "dense_6 (Dense)              (None, 1)                 257       \n",
            "=================================================================\n",
            "Total params: 16,812,353\n",
            "Trainable params: 2,097,665\n",
            "Non-trainable params: 14,714,688\n",
            "_________________________________________________________________\n"
          ],
          "name": "stdout"
        }
      ]
    },
    {
      "cell_type": "markdown",
      "metadata": {
        "id": "HiiR0KSaOwrJ",
        "colab_type": "text"
      },
      "source": [
        "As you can see, the convolutional base of VGG16 has 14,714,688 parameters, which is very large. The classifier we are adding on top has 2 \n",
        "million parameters.\n",
        "\n",
        "Before we compile and train our model, a very important thing to do is to freeze the convolutional base. \"Freezing\" a layer or set of \n",
        "layers means preventing their weights from getting updated during training. If we don't do this, then the representations that were \n",
        "previously learned by the convolutional base would get modified during training. Since the `Dense` layers on top are randomly initialized, \n",
        "very large weight updates would be propagated through the network, effectively destroying the representations previously learned.\n",
        "\n",
        "In Keras, freezing a network is done by setting its `trainable` attribute to `False`:"
      ]
    },
    {
      "cell_type": "code",
      "metadata": {
        "id": "pZWs5VvEOwrL",
        "colab_type": "code",
        "colab": {
          "base_uri": "https://localhost:8080/",
          "height": 55
        },
        "outputId": "203e702f-17ac-474b-e131-23efc9177523"
      },
      "source": [
        "print('This is the number of trainable weights '\n",
        "      'before freezing the conv base:', len(model.trainable_weights))"
      ],
      "execution_count": 39,
      "outputs": [
        {
          "output_type": "stream",
          "text": [
            "This is the number of trainable weights before freezing the conv base: 4\n"
          ],
          "name": "stdout"
        }
      ]
    },
    {
      "cell_type": "code",
      "metadata": {
        "id": "i4MMyygdOwrR",
        "colab_type": "code",
        "colab": {}
      },
      "source": [
        "conv_base.trainable = False"
      ],
      "execution_count": 0,
      "outputs": []
    },
    {
      "cell_type": "code",
      "metadata": {
        "id": "Jm-XPI7cOwrX",
        "colab_type": "code",
        "colab": {
          "base_uri": "https://localhost:8080/",
          "height": 35
        },
        "outputId": "2c5ad90f-a5bb-4faf-9853-2d1e6fc59448"
      },
      "source": [
        "print('This is the number of trainable weights '\n",
        "      'after freezing the conv base:', len(model.trainable_weights))"
      ],
      "execution_count": 41,
      "outputs": [
        {
          "output_type": "stream",
          "text": [
            "This is the number of trainable weights after freezing the conv base: 4\n"
          ],
          "name": "stdout"
        }
      ]
    },
    {
      "cell_type": "markdown",
      "metadata": {
        "id": "CJ9ELCd3Owrc",
        "colab_type": "text"
      },
      "source": [
        "With this setup, only the weights from the two `Dense` layers that we added will be trained. That's a total of four weight tensors: two per \n",
        "layer (the main weight matrix and the bias vector). Note that in order for these changes to take effect, we must first compile the model. \n",
        "If you ever modify weight trainability after compilation, you should then re-compile the model, or these changes would be ignored.\n",
        "\n",
        "Now we can start training our model, with the same data augmentation configuration that we used in our previous example:"
      ]
    },
    {
      "cell_type": "code",
      "metadata": {
        "id": "bUq843lnOwre",
        "colab_type": "code",
        "colab": {
          "base_uri": "https://localhost:8080/",
          "height": 1000
        },
        "outputId": "97da7875-32d5-49c6-ff49-134785d716ee"
      },
      "source": [
        "from keras.preprocessing.image import ImageDataGenerator\n",
        "\n",
        "train_datagen = ImageDataGenerator(\n",
        "      rescale=1./255,\n",
        "      rotation_range=40,\n",
        "      width_shift_range=0.2,\n",
        "      height_shift_range=0.2,\n",
        "      shear_range=0.2,\n",
        "      zoom_range=0.2,\n",
        "      horizontal_flip=True,\n",
        "      fill_mode='nearest')\n",
        "\n",
        "# Note that the validation data should not be augmented!\n",
        "test_datagen = ImageDataGenerator(rescale=1./255)\n",
        "\n",
        "train_generator = train_datagen.flow_from_directory(\n",
        "        # This is the target directory\n",
        "        train_dir,\n",
        "        # All images will be resized to 150x150\n",
        "        target_size=(150, 150),\n",
        "        batch_size=20,\n",
        "        # Since we use binary_crossentropy loss, we need binary labels\n",
        "        class_mode='binary')\n",
        "\n",
        "validation_generator = test_datagen.flow_from_directory(\n",
        "        validation_dir,\n",
        "        target_size=(150, 150),\n",
        "        batch_size=20,\n",
        "        class_mode='binary')\n",
        "\n",
        "model.compile(loss='binary_crossentropy',\n",
        "              optimizer=optimizers.RMSprop(lr=2e-5),\n",
        "              metrics=['acc'])\n",
        "\n",
        "history = model.fit_generator(\n",
        "      train_generator,\n",
        "      steps_per_epoch=100,\n",
        "      epochs=30,\n",
        "      validation_data=validation_generator,\n",
        "      validation_steps=50,\n",
        "      verbose=2)"
      ],
      "execution_count": 42,
      "outputs": [
        {
          "output_type": "stream",
          "text": [
            "Found 2000 images belonging to 2 classes.\n",
            "Found 1000 images belonging to 2 classes.\n",
            "Epoch 1/30\n",
            " - 19s - loss: 0.6059 - acc: 0.6750 - val_loss: 0.4557 - val_acc: 0.8370\n",
            "Epoch 2/30\n",
            " - 17s - loss: 0.4886 - acc: 0.7905 - val_loss: 0.3750 - val_acc: 0.8740\n",
            "Epoch 3/30\n",
            " - 17s - loss: 0.4387 - acc: 0.8125 - val_loss: 0.3311 - val_acc: 0.8800\n",
            "Epoch 4/30\n",
            " - 17s - loss: 0.4065 - acc: 0.8285 - val_loss: 0.3063 - val_acc: 0.8820\n",
            "Epoch 5/30\n",
            " - 17s - loss: 0.3950 - acc: 0.8250 - val_loss: 0.2954 - val_acc: 0.8800\n",
            "Epoch 6/30\n",
            " - 17s - loss: 0.3639 - acc: 0.8395 - val_loss: 0.2826 - val_acc: 0.8920\n",
            "Epoch 7/30\n",
            " - 16s - loss: 0.3761 - acc: 0.8315 - val_loss: 0.2759 - val_acc: 0.8960\n",
            "Epoch 8/30\n",
            " - 16s - loss: 0.3526 - acc: 0.8495 - val_loss: 0.2743 - val_acc: 0.8900\n",
            "Epoch 9/30\n",
            " - 17s - loss: 0.3341 - acc: 0.8490 - val_loss: 0.2698 - val_acc: 0.8930\n",
            "Epoch 10/30\n",
            " - 17s - loss: 0.3350 - acc: 0.8575 - val_loss: 0.2572 - val_acc: 0.8960\n",
            "Epoch 11/30\n",
            " - 17s - loss: 0.3322 - acc: 0.8510 - val_loss: 0.2571 - val_acc: 0.8970\n",
            "Epoch 12/30\n",
            " - 17s - loss: 0.3307 - acc: 0.8530 - val_loss: 0.2643 - val_acc: 0.8900\n",
            "Epoch 13/30\n",
            " - 16s - loss: 0.3453 - acc: 0.8525 - val_loss: 0.2651 - val_acc: 0.8890\n",
            "Epoch 14/30\n",
            " - 16s - loss: 0.3312 - acc: 0.8570 - val_loss: 0.2514 - val_acc: 0.8970\n",
            "Epoch 15/30\n",
            " - 17s - loss: 0.3186 - acc: 0.8625 - val_loss: 0.2516 - val_acc: 0.8980\n",
            "Epoch 16/30\n",
            " - 17s - loss: 0.3154 - acc: 0.8595 - val_loss: 0.2521 - val_acc: 0.8980\n",
            "Epoch 17/30\n",
            " - 16s - loss: 0.3150 - acc: 0.8615 - val_loss: 0.2667 - val_acc: 0.8890\n",
            "Epoch 18/30\n",
            " - 16s - loss: 0.3115 - acc: 0.8680 - val_loss: 0.2446 - val_acc: 0.9010\n",
            "Epoch 19/30\n",
            " - 16s - loss: 0.3103 - acc: 0.8655 - val_loss: 0.2477 - val_acc: 0.9010\n",
            "Epoch 20/30\n",
            " - 17s - loss: 0.3059 - acc: 0.8685 - val_loss: 0.2427 - val_acc: 0.9020\n",
            "Epoch 21/30\n",
            " - 16s - loss: 0.3023 - acc: 0.8595 - val_loss: 0.2443 - val_acc: 0.9010\n",
            "Epoch 22/30\n",
            " - 17s - loss: 0.2912 - acc: 0.8800 - val_loss: 0.2458 - val_acc: 0.9000\n",
            "Epoch 23/30\n",
            " - 16s - loss: 0.2915 - acc: 0.8680 - val_loss: 0.2370 - val_acc: 0.9040\n",
            "Epoch 24/30\n",
            " - 16s - loss: 0.2985 - acc: 0.8720 - val_loss: 0.2362 - val_acc: 0.9060\n",
            "Epoch 25/30\n",
            " - 17s - loss: 0.3020 - acc: 0.8755 - val_loss: 0.2406 - val_acc: 0.9060\n",
            "Epoch 26/30\n",
            " - 16s - loss: 0.2869 - acc: 0.8855 - val_loss: 0.2440 - val_acc: 0.8970\n",
            "Epoch 27/30\n",
            " - 17s - loss: 0.2890 - acc: 0.8745 - val_loss: 0.2459 - val_acc: 0.9020\n",
            "Epoch 28/30\n",
            " - 16s - loss: 0.2910 - acc: 0.8785 - val_loss: 0.2372 - val_acc: 0.9060\n",
            "Epoch 29/30\n",
            " - 16s - loss: 0.2854 - acc: 0.8810 - val_loss: 0.2400 - val_acc: 0.9040\n",
            "Epoch 30/30\n",
            " - 17s - loss: 0.2920 - acc: 0.8670 - val_loss: 0.2415 - val_acc: 0.9030\n"
          ],
          "name": "stdout"
        }
      ]
    },
    {
      "cell_type": "code",
      "metadata": {
        "id": "TFBFTsi5Owrj",
        "colab_type": "code",
        "colab": {}
      },
      "source": [
        "model.save('cats_and_dogs_small_3.h5')"
      ],
      "execution_count": 0,
      "outputs": []
    },
    {
      "cell_type": "markdown",
      "metadata": {
        "id": "iaIOqzw1Owro",
        "colab_type": "text"
      },
      "source": [
        "Let's plot our results again:"
      ]
    },
    {
      "cell_type": "code",
      "metadata": {
        "id": "PF_avxutOwro",
        "colab_type": "code",
        "colab": {
          "base_uri": "https://localhost:8080/",
          "height": 545
        },
        "outputId": "04083044-2f91-49c1-f152-a908ed98c0f5"
      },
      "source": [
        "acc = history.history['acc']\n",
        "val_acc = history.history['val_acc']\n",
        "loss = history.history['loss']\n",
        "val_loss = history.history['val_loss']\n",
        "\n",
        "epochs = range(len(acc))\n",
        "\n",
        "plt.plot(epochs, acc, 'bo', label='Training acc')\n",
        "plt.plot(epochs, val_acc, 'b', label='Validation acc')\n",
        "plt.title('Training and validation accuracy')\n",
        "plt.legend()\n",
        "\n",
        "plt.figure()\n",
        "\n",
        "plt.plot(epochs, loss, 'bo', label='Training loss')\n",
        "plt.plot(epochs, val_loss, 'b', label='Validation loss')\n",
        "plt.title('Training and validation loss')\n",
        "plt.legend()\n",
        "\n",
        "plt.show()"
      ],
      "execution_count": 43,
      "outputs": [
        {
          "output_type": "display_data",
          "data": {
            "image/png": "[encoded data removed]",
            "text/plain": [
              "<Figure size 432x288 with 1 Axes>"
            ]
          },
          "metadata": {
            "tags": []
          }
        },
        {
          "output_type": "display_data",
          "data": {
            "image/png": "[encoded data removed]",
            "text/plain": [
              "<Figure size 432x288 with 1 Axes>"
            ]
          },
          "metadata": {
            "tags": []
          }
        }
      ]
    },
    {
      "cell_type": "markdown",
      "metadata": {
        "id": "pttb1NHWOwrv",
        "colab_type": "text"
      },
      "source": [
        "As you can see, we reach a validation accuracy of about 96%. This is much better than our small convnet trained from scratch."
      ]
    },
    {
      "cell_type": "markdown",
      "metadata": {
        "id": "bj0tm2VZOwrw",
        "colab_type": "text"
      },
      "source": [
        "## Fine-tuning\n",
        "\n",
        "Another widely used technique for model reuse, complementary to feature extraction, is _fine-tuning_. \n",
        "Fine-tuning consists in unfreezing a few of the top layers \n",
        "of a frozen model base used for feature extraction, and jointly training both the newly added part of the model (in our case, the \n",
        "fully-connected classifier) and these top layers. This is called \"fine-tuning\" because it slightly adjusts the more abstract \n",
        "representations of the model being reused, in order to make them more relevant for the problem at hand.\n",
        "\n",
        "![fine-tuning VGG16](https://s3.amazonaws.com/book.keras.io/img/ch5/vgg16_fine_tuning.png)"
      ]
    },
    {
      "cell_type": "markdown",
      "metadata": {
        "id": "eZXLcsekOwrz",
        "colab_type": "text"
      },
      "source": [
        "We have stated before that it was necessary to freeze the convolution base of VGG16 in order to be able to train a randomly initialized \n",
        "classifier on top. For the same reason, it is only possible to fine-tune the top layers of the convolutional base once the classifier on \n",
        "top has already been trained. If the classified wasn't already trained, then the error signal propagating through the network during \n",
        "training would be too large, and the representations previously learned by the layers being fine-tuned would be destroyed. Thus the steps \n",
        "for fine-tuning a network are as follow:\n",
        "\n",
        "* 1) Add your custom network on top of an already trained base network.\n",
        "* 2) Freeze the base network.\n",
        "* 3) Train the part you added.\n",
        "* 4) Unfreeze some layers in the base network.\n",
        "* 5) Jointly train both these layers and the part you added.\n",
        "\n",
        "We have already completed the first 3 steps when doing feature extraction. Let's proceed with the 4th step: we will unfreeze our `conv_base`, \n",
        "and then freeze individual layers inside of it.\n",
        "\n",
        "As a reminder, this is what our convolutional base looks like:"
      ]
    },
    {
      "cell_type": "code",
      "metadata": {
        "id": "NGTMKsX-Owr0",
        "colab_type": "code",
        "colab": {
          "base_uri": "https://localhost:8080/",
          "height": 835
        },
        "outputId": "0352b67d-a59d-49ec-c831-b1fd50ad36bc"
      },
      "source": [
        "conv_base.summary()"
      ],
      "execution_count": 46,
      "outputs": [
        {
          "output_type": "stream",
          "text": [
            "_________________________________________________________________\n",
            "Layer (type)                 Output Shape              Param #   \n",
            "=================================================================\n",
            "input_1 (InputLayer)         (None, 150, 150, 3)       0         \n",
            "_________________________________________________________________\n",
            "block1_conv1 (Conv2D)        (None, 150, 150, 64)      1792      \n",
            "_________________________________________________________________\n",
            "block1_conv2 (Conv2D)        (None, 150, 150, 64)      36928     \n",
            "_________________________________________________________________\n",
            "block1_pool (MaxPooling2D)   (None, 75, 75, 64)        0         \n",
            "_________________________________________________________________\n",
            "block2_conv1 (Conv2D)        (None, 75, 75, 128)       73856     \n",
            "_________________________________________________________________\n",
            "block2_conv2 (Conv2D)        (None, 75, 75, 128)       147584    \n",
            "_________________________________________________________________\n",
            "block2_pool (MaxPooling2D)   (None, 37, 37, 128)       0         \n",
            "_________________________________________________________________\n",
            "block3_conv1 (Conv2D)        (None, 37, 37, 256)       295168    \n",
            "_________________________________________________________________\n",
            "block3_conv2 (Conv2D)        (None, 37, 37, 256)       590080    \n",
            "_________________________________________________________________\n",
            "block3_conv3 (Conv2D)        (None, 37, 37, 256)       590080    \n",
            "_________________________________________________________________\n",
            "block3_pool (MaxPooling2D)   (None, 18, 18, 256)       0         \n",
            "_________________________________________________________________\n",
            "block4_conv1 (Conv2D)        (None, 18, 18, 512)       1180160   \n",
            "_________________________________________________________________\n",
            "block4_conv2 (Conv2D)        (None, 18, 18, 512)       2359808   \n",
            "_________________________________________________________________\n",
            "block4_conv3 (Conv2D)        (None, 18, 18, 512)       2359808   \n",
            "_________________________________________________________________\n",
            "block4_pool (MaxPooling2D)   (None, 9, 9, 512)         0         \n",
            "_________________________________________________________________\n",
            "block5_conv1 (Conv2D)        (None, 9, 9, 512)         2359808   \n",
            "_________________________________________________________________\n",
            "block5_conv2 (Conv2D)        (None, 9, 9, 512)         2359808   \n",
            "_________________________________________________________________\n",
            "block5_conv3 (Conv2D)        (None, 9, 9, 512)         2359808   \n",
            "_________________________________________________________________\n",
            "block5_pool (MaxPooling2D)   (None, 4, 4, 512)         0         \n",
            "=================================================================\n",
            "Total params: 14,714,688\n",
            "Trainable params: 0\n",
            "Non-trainable params: 14,714,688\n",
            "_________________________________________________________________\n"
          ],
          "name": "stdout"
        }
      ]
    },
    {
      "cell_type": "markdown",
      "metadata": {
        "id": "_AhQ7Fy0OwsA",
        "colab_type": "text"
      },
      "source": [
        "\n",
        "We will fine-tune the last 3 convolutional layers, which means that all layers up until `block4_pool` should be frozen, and the layers \n",
        "`block5_conv1`, `block5_conv2` and `block5_conv3` should be trainable.\n",
        "\n",
        "Why not fine-tune more layers? Why not fine-tune the entire convolutional base? We could. However, we need to consider that:\n",
        "\n",
        "* Earlier layers in the convolutional base encode more generic, reusable features, while layers higher up encode more specialized features. It is \n",
        "more useful to fine-tune the more specialized features, as these are the ones that need to be repurposed on our new problem. There would \n",
        "be fast-decreasing returns in fine-tuning lower layers.\n",
        "* The more parameters we are training, the more we are at risk of overfitting. The convolutional base has 15M parameters, so it would be \n",
        "risky to attempt to train it on our small dataset.\n",
        "\n",
        "Thus, in our situation, it is a good strategy to only fine-tune the top 2 to 3 layers in the convolutional base.\n",
        "\n",
        "Let's set this up, starting from where we left off in the previous example:"
      ]
    },
    {
      "cell_type": "code",
      "metadata": {
        "id": "lpgqqE2lOwsB",
        "colab_type": "code",
        "colab": {}
      },
      "source": [
        "conv_base.trainable = True\n",
        "\n",
        "set_trainable = False\n",
        "for layer in conv_base.layers:\n",
        "    if layer.name == 'block5_conv1':\n",
        "        set_trainable = True\n",
        "    if set_trainable:\n",
        "        layer.trainable = True\n",
        "    else:\n",
        "        layer.trainable = False"
      ],
      "execution_count": 0,
      "outputs": []
    },
    {
      "cell_type": "markdown",
      "metadata": {
        "id": "JWbVE6IhOwsE",
        "colab_type": "text"
      },
      "source": [
        "Now we can start fine-tuning our network. We will do this with the RMSprop optimizer, using a very low learning rate. The reason for using \n",
        "a low learning rate is that we want to limit the magnitude of the modifications we make to the representations of the 3 layers that we are \n",
        "fine-tuning. Updates that are too large may harm these representations.\n",
        "\n",
        "Now let's proceed with fine-tuning:"
      ]
    },
    {
      "cell_type": "code",
      "metadata": {
        "id": "mojSraeoOwsF",
        "colab_type": "code",
        "colab": {
          "base_uri": "https://localhost:8080/",
          "height": 1000
        },
        "outputId": "1ca4b562-8ea4-40d9-8457-5f71f9bcd252"
      },
      "source": [
        "model.compile(loss='binary_crossentropy',\n",
        "              optimizer=optimizers.RMSprop(lr=1e-5),\n",
        "              metrics=['acc'])\n",
        "\n",
        "history = model.fit_generator(\n",
        "      train_generator,\n",
        "      steps_per_epoch=100,\n",
        "      epochs=100,\n",
        "      validation_data=validation_generator,\n",
        "      validation_steps=50)"
      ],
      "execution_count": 48,
      "outputs": [
        {
          "output_type": "stream",
          "text": [
            "Epoch 1/100\n",
            "100/100 [==============================] - 20s 196ms/step - loss: 0.2804 - acc: 0.8810 - val_loss: 0.2272 - val_acc: 0.9110\n",
            "Epoch 2/100\n",
            "100/100 [==============================] - 18s 177ms/step - loss: 0.2522 - acc: 0.8960 - val_loss: 0.2271 - val_acc: 0.9140\n",
            "Epoch 3/100\n",
            "100/100 [==============================] - 18s 177ms/step - loss: 0.2281 - acc: 0.9125 - val_loss: 0.1953 - val_acc: 0.9220\n",
            "Epoch 4/100\n",
            "100/100 [==============================] - 18s 177ms/step - loss: 0.2176 - acc: 0.9090 - val_loss: 0.2029 - val_acc: 0.9180\n",
            "Epoch 5/100\n",
            "100/100 [==============================] - 18s 179ms/step - loss: 0.2014 - acc: 0.9125 - val_loss: 0.1986 - val_acc: 0.9120\n",
            "Epoch 6/100\n",
            "100/100 [==============================] - 18s 182ms/step - loss: 0.1862 - acc: 0.9255 - val_loss: 0.2293 - val_acc: 0.9000\n",
            "Epoch 7/100\n",
            "100/100 [==============================] - 18s 177ms/step - loss: 0.1833 - acc: 0.9255 - val_loss: 0.2013 - val_acc: 0.9270\n",
            "Epoch 8/100\n",
            "100/100 [==============================] - 18s 178ms/step - loss: 0.1979 - acc: 0.9290 - val_loss: 0.1813 - val_acc: 0.9310\n",
            "Epoch 9/100\n",
            "100/100 [==============================] - 18s 179ms/step - loss: 0.1573 - acc: 0.9385 - val_loss: 0.2079 - val_acc: 0.9230\n",
            "Epoch 10/100\n",
            "100/100 [==============================] - 18s 176ms/step - loss: 0.1667 - acc: 0.9350 - val_loss: 0.2125 - val_acc: 0.9140\n",
            "Epoch 11/100\n",
            "100/100 [==============================] - 18s 176ms/step - loss: 0.1455 - acc: 0.9400 - val_loss: 0.2135 - val_acc: 0.9210\n",
            "Epoch 12/100\n",
            "100/100 [==============================] - 18s 176ms/step - loss: 0.1501 - acc: 0.9440 - val_loss: 0.1864 - val_acc: 0.9340\n",
            "Epoch 13/100\n",
            "100/100 [==============================] - 18s 179ms/step - loss: 0.1279 - acc: 0.9515 - val_loss: 0.1666 - val_acc: 0.9350\n",
            "Epoch 14/100\n",
            "100/100 [==============================] - 18s 178ms/step - loss: 0.1228 - acc: 0.9495 - val_loss: 0.1700 - val_acc: 0.9360\n",
            "Epoch 15/100\n",
            "100/100 [==============================] - 18s 180ms/step - loss: 0.1274 - acc: 0.9475 - val_loss: 0.1950 - val_acc: 0.9300\n",
            "Epoch 16/100\n",
            "100/100 [==============================] - 18s 175ms/step - loss: 0.1248 - acc: 0.9545 - val_loss: 0.1798 - val_acc: 0.9330\n",
            "Epoch 17/100\n",
            "100/100 [==============================] - 18s 177ms/step - loss: 0.1208 - acc: 0.9530 - val_loss: 0.1740 - val_acc: 0.9390\n",
            "Epoch 18/100\n",
            "100/100 [==============================] - 18s 179ms/step - loss: 0.0965 - acc: 0.9660 - val_loss: 0.1878 - val_acc: 0.9350\n",
            "Epoch 19/100\n",
            "100/100 [==============================] - 18s 176ms/step - loss: 0.1015 - acc: 0.9580 - val_loss: 0.1979 - val_acc: 0.9320\n",
            "Epoch 20/100\n",
            "100/100 [==============================] - 18s 176ms/step - loss: 0.1026 - acc: 0.9605 - val_loss: 0.1763 - val_acc: 0.9380\n",
            "Epoch 21/100\n",
            "100/100 [==============================] - 18s 176ms/step - loss: 0.0936 - acc: 0.9640 - val_loss: 0.1683 - val_acc: 0.9400\n",
            "Epoch 22/100\n",
            "100/100 [==============================] - 18s 176ms/step - loss: 0.0810 - acc: 0.9705 - val_loss: 0.1889 - val_acc: 0.9350\n",
            "Epoch 23/100\n",
            "100/100 [==============================] - 18s 179ms/step - loss: 0.0907 - acc: 0.9605 - val_loss: 0.2242 - val_acc: 0.9280\n",
            "Epoch 24/100\n",
            "100/100 [==============================] - 18s 180ms/step - loss: 0.0846 - acc: 0.9700 - val_loss: 0.1731 - val_acc: 0.9360\n",
            "Epoch 25/100\n",
            "100/100 [==============================] - 18s 176ms/step - loss: 0.0844 - acc: 0.9675 - val_loss: 0.1756 - val_acc: 0.9420\n",
            "Epoch 26/100\n",
            "100/100 [==============================] - 18s 176ms/step - loss: 0.0809 - acc: 0.9690 - val_loss: 0.2206 - val_acc: 0.9240\n",
            "Epoch 27/100\n",
            "100/100 [==============================] - 18s 180ms/step - loss: 0.0850 - acc: 0.9635 - val_loss: 0.1916 - val_acc: 0.9360\n",
            "Epoch 28/100\n",
            "100/100 [==============================] - 18s 176ms/step - loss: 0.0595 - acc: 0.9785 - val_loss: 0.1855 - val_acc: 0.9310\n",
            "Epoch 29/100\n",
            "100/100 [==============================] - 18s 175ms/step - loss: 0.0750 - acc: 0.9725 - val_loss: 0.2046 - val_acc: 0.9370\n",
            "Epoch 30/100\n",
            "100/100 [==============================] - 17s 174ms/step - loss: 0.0685 - acc: 0.9775 - val_loss: 0.1846 - val_acc: 0.9360\n",
            "Epoch 31/100\n",
            "100/100 [==============================] - 18s 179ms/step - loss: 0.0616 - acc: 0.9780 - val_loss: 0.2105 - val_acc: 0.9410\n",
            "Epoch 32/100\n",
            "100/100 [==============================] - 18s 177ms/step - loss: 0.0743 - acc: 0.9730 - val_loss: 0.2167 - val_acc: 0.9270\n",
            "Epoch 33/100\n",
            "100/100 [==============================] - 18s 180ms/step - loss: 0.0648 - acc: 0.9735 - val_loss: 0.1819 - val_acc: 0.9340\n",
            "Epoch 34/100\n",
            "100/100 [==============================] - 17s 175ms/step - loss: 0.0489 - acc: 0.9825 - val_loss: 0.1814 - val_acc: 0.9410\n",
            "Epoch 35/100\n",
            "100/100 [==============================] - 17s 174ms/step - loss: 0.0566 - acc: 0.9815 - val_loss: 0.2070 - val_acc: 0.9380\n",
            "Epoch 36/100\n",
            "100/100 [==============================] - 18s 176ms/step - loss: 0.0607 - acc: 0.9810 - val_loss: 0.3226 - val_acc: 0.9130\n",
            "Epoch 37/100\n",
            "100/100 [==============================] - 18s 177ms/step - loss: 0.0490 - acc: 0.9810 - val_loss: 0.2624 - val_acc: 0.9310\n",
            "Epoch 38/100\n",
            "100/100 [==============================] - 18s 177ms/step - loss: 0.0554 - acc: 0.9780 - val_loss: 0.2016 - val_acc: 0.9380\n",
            "Epoch 39/100\n",
            "100/100 [==============================] - 18s 176ms/step - loss: 0.0528 - acc: 0.9805 - val_loss: 0.2032 - val_acc: 0.9340\n",
            "Epoch 40/100\n",
            "100/100 [==============================] - 18s 176ms/step - loss: 0.0590 - acc: 0.9820 - val_loss: 0.1953 - val_acc: 0.9390\n",
            "Epoch 41/100\n",
            "100/100 [==============================] - 18s 179ms/step - loss: 0.0432 - acc: 0.9865 - val_loss: 0.2054 - val_acc: 0.9330\n",
            "Epoch 42/100\n",
            "100/100 [==============================] - 18s 178ms/step - loss: 0.0594 - acc: 0.9790 - val_loss: 0.1989 - val_acc: 0.9400\n",
            "Epoch 43/100\n",
            "100/100 [==============================] - 18s 178ms/step - loss: 0.0425 - acc: 0.9835 - val_loss: 0.2283 - val_acc: 0.9340\n",
            "Epoch 44/100\n",
            "100/100 [==============================] - 18s 178ms/step - loss: 0.0438 - acc: 0.9830 - val_loss: 0.2367 - val_acc: 0.9290\n",
            "Epoch 45/100\n",
            "100/100 [==============================] - 18s 178ms/step - loss: 0.0454 - acc: 0.9825 - val_loss: 0.2179 - val_acc: 0.9370\n",
            "Epoch 46/100\n",
            "100/100 [==============================] - 18s 178ms/step - loss: 0.0407 - acc: 0.9845 - val_loss: 0.2675 - val_acc: 0.9300\n",
            "Epoch 47/100\n",
            "100/100 [==============================] - 18s 177ms/step - loss: 0.0506 - acc: 0.9830 - val_loss: 0.1838 - val_acc: 0.9400\n",
            "Epoch 48/100\n",
            "100/100 [==============================] - 18s 179ms/step - loss: 0.0414 - acc: 0.9830 - val_loss: 0.1912 - val_acc: 0.9420\n",
            "Epoch 49/100\n",
            "100/100 [==============================] - 18s 177ms/step - loss: 0.0385 - acc: 0.9850 - val_loss: 0.2005 - val_acc: 0.9410\n",
            "Epoch 50/100\n",
            "100/100 [==============================] - 18s 179ms/step - loss: 0.0445 - acc: 0.9845 - val_loss: 0.2375 - val_acc: 0.9390\n",
            "Epoch 51/100\n",
            "100/100 [==============================] - 18s 181ms/step - loss: 0.0350 - acc: 0.9870 - val_loss: 0.2278 - val_acc: 0.9300\n",
            "Epoch 52/100\n",
            "100/100 [==============================] - 18s 179ms/step - loss: 0.0385 - acc: 0.9885 - val_loss: 0.1990 - val_acc: 0.9470\n",
            "Epoch 53/100\n",
            "100/100 [==============================] - 18s 176ms/step - loss: 0.0407 - acc: 0.9875 - val_loss: 0.2161 - val_acc: 0.9440\n",
            "Epoch 54/100\n",
            "100/100 [==============================] - 18s 177ms/step - loss: 0.0312 - acc: 0.9900 - val_loss: 0.2056 - val_acc: 0.9410\n",
            "Epoch 55/100\n",
            "100/100 [==============================] - 18s 178ms/step - loss: 0.0413 - acc: 0.9830 - val_loss: 0.1956 - val_acc: 0.9400\n",
            "Epoch 56/100\n",
            "100/100 [==============================] - 18s 176ms/step - loss: 0.0296 - acc: 0.9915 - val_loss: 0.2658 - val_acc: 0.9330\n",
            "Epoch 57/100\n",
            "100/100 [==============================] - 18s 176ms/step - loss: 0.0353 - acc: 0.9890 - val_loss: 0.4432 - val_acc: 0.9050\n",
            "Epoch 58/100\n",
            "100/100 [==============================] - 17s 175ms/step - loss: 0.0333 - acc: 0.9885 - val_loss: 0.2139 - val_acc: 0.9430\n",
            "Epoch 59/100\n",
            "100/100 [==============================] - 18s 178ms/step - loss: 0.0294 - acc: 0.9900 - val_loss: 0.2790 - val_acc: 0.9340\n",
            "Epoch 60/100\n",
            "100/100 [==============================] - 18s 178ms/step - loss: 0.0313 - acc: 0.9880 - val_loss: 0.2630 - val_acc: 0.9420\n",
            "Epoch 61/100\n",
            "100/100 [==============================] - 18s 180ms/step - loss: 0.0344 - acc: 0.9860 - val_loss: 0.6541 - val_acc: 0.8910\n",
            "Epoch 62/100\n",
            "100/100 [==============================] - 18s 176ms/step - loss: 0.0279 - acc: 0.9905 - val_loss: 0.2677 - val_acc: 0.9390\n",
            "Epoch 63/100\n",
            "100/100 [==============================] - 18s 175ms/step - loss: 0.0250 - acc: 0.9920 - val_loss: 0.2353 - val_acc: 0.9420\n",
            "Epoch 64/100\n",
            "100/100 [==============================] - 18s 178ms/step - loss: 0.0216 - acc: 0.9905 - val_loss: 0.3011 - val_acc: 0.9290\n",
            "Epoch 65/100\n",
            "100/100 [==============================] - 17s 174ms/step - loss: 0.0303 - acc: 0.9890 - val_loss: 0.2491 - val_acc: 0.9420\n",
            "Epoch 66/100\n",
            "100/100 [==============================] - 18s 179ms/step - loss: 0.0255 - acc: 0.9910 - val_loss: 0.2297 - val_acc: 0.9330\n",
            "Epoch 67/100\n",
            "100/100 [==============================] - 17s 175ms/step - loss: 0.0340 - acc: 0.9890 - val_loss: 0.2039 - val_acc: 0.9450\n",
            "Epoch 68/100\n",
            "100/100 [==============================] - 18s 176ms/step - loss: 0.0234 - acc: 0.9920 - val_loss: 0.2480 - val_acc: 0.9400\n",
            "Epoch 69/100\n",
            "100/100 [==============================] - 18s 178ms/step - loss: 0.0263 - acc: 0.9890 - val_loss: 0.2438 - val_acc: 0.9410\n",
            "Epoch 70/100\n",
            "100/100 [==============================] - 18s 177ms/step - loss: 0.0345 - acc: 0.9875 - val_loss: 0.2306 - val_acc: 0.9360\n",
            "Epoch 71/100\n",
            "100/100 [==============================] - 18s 176ms/step - loss: 0.0311 - acc: 0.9900 - val_loss: 0.2306 - val_acc: 0.9400\n",
            "Epoch 72/100\n",
            "100/100 [==============================] - 18s 177ms/step - loss: 0.0270 - acc: 0.9905 - val_loss: 0.3882 - val_acc: 0.9220\n",
            "Epoch 73/100\n",
            "100/100 [==============================] - 18s 177ms/step - loss: 0.0277 - acc: 0.9910 - val_loss: 0.2399 - val_acc: 0.9400\n",
            "Epoch 74/100\n",
            "100/100 [==============================] - 18s 176ms/step - loss: 0.0238 - acc: 0.9910 - val_loss: 0.2660 - val_acc: 0.9390\n",
            "Epoch 75/100\n",
            "100/100 [==============================] - 18s 175ms/step - loss: 0.0211 - acc: 0.9925 - val_loss: 0.3789 - val_acc: 0.9300\n",
            "Epoch 76/100\n",
            "100/100 [==============================] - 17s 175ms/step - loss: 0.0193 - acc: 0.9925 - val_loss: 0.2504 - val_acc: 0.9370\n",
            "Epoch 77/100\n",
            "100/100 [==============================] - 18s 175ms/step - loss: 0.0208 - acc: 0.9910 - val_loss: 0.3572 - val_acc: 0.9270\n",
            "Epoch 78/100\n",
            "100/100 [==============================] - 18s 179ms/step - loss: 0.0283 - acc: 0.9920 - val_loss: 0.2532 - val_acc: 0.9430\n",
            "Epoch 79/100\n",
            "100/100 [==============================] - 18s 179ms/step - loss: 0.0268 - acc: 0.9940 - val_loss: 0.2639 - val_acc: 0.9390\n",
            "Epoch 80/100\n",
            "100/100 [==============================] - 18s 175ms/step - loss: 0.0177 - acc: 0.9940 - val_loss: 0.3257 - val_acc: 0.9310\n",
            "Epoch 81/100\n",
            "100/100 [==============================] - 17s 174ms/step - loss: 0.0231 - acc: 0.9920 - val_loss: 0.2927 - val_acc: 0.9370\n",
            "Epoch 82/100\n",
            "100/100 [==============================] - 18s 178ms/step - loss: 0.0281 - acc: 0.9885 - val_loss: 0.2619 - val_acc: 0.9380\n",
            "Epoch 83/100\n",
            "100/100 [==============================] - 18s 176ms/step - loss: 0.0249 - acc: 0.9940 - val_loss: 0.3143 - val_acc: 0.9350\n",
            "Epoch 84/100\n",
            "100/100 [==============================] - 18s 177ms/step - loss: 0.0204 - acc: 0.9910 - val_loss: 0.2660 - val_acc: 0.9360\n",
            "Epoch 85/100\n",
            "100/100 [==============================] - 17s 175ms/step - loss: 0.0246 - acc: 0.9920 - val_loss: 0.2232 - val_acc: 0.9430\n",
            "Epoch 86/100\n",
            "100/100 [==============================] - 18s 176ms/step - loss: 0.0230 - acc: 0.9905 - val_loss: 0.2428 - val_acc: 0.9470\n",
            "Epoch 87/100\n",
            "100/100 [==============================] - 18s 177ms/step - loss: 0.0209 - acc: 0.9930 - val_loss: 0.2560 - val_acc: 0.9450\n",
            "Epoch 88/100\n",
            "100/100 [==============================] - 18s 180ms/step - loss: 0.0214 - acc: 0.9920 - val_loss: 0.2629 - val_acc: 0.9390\n",
            "Epoch 89/100\n",
            "100/100 [==============================] - 17s 174ms/step - loss: 0.0126 - acc: 0.9960 - val_loss: 0.2848 - val_acc: 0.9370\n",
            "Epoch 90/100\n",
            "100/100 [==============================] - 17s 175ms/step - loss: 0.0161 - acc: 0.9940 - val_loss: 0.2915 - val_acc: 0.9400\n",
            "Epoch 91/100\n",
            "100/100 [==============================] - 18s 179ms/step - loss: 0.0256 - acc: 0.9900 - val_loss: 0.2404 - val_acc: 0.9370\n",
            "Epoch 92/100\n",
            "100/100 [==============================] - 18s 175ms/step - loss: 0.0198 - acc: 0.9935 - val_loss: 0.3244 - val_acc: 0.9310\n",
            "Epoch 93/100\n",
            "100/100 [==============================] - 18s 175ms/step - loss: 0.0129 - acc: 0.9945 - val_loss: 0.2344 - val_acc: 0.9470\n",
            "Epoch 94/100\n",
            "100/100 [==============================] - 17s 175ms/step - loss: 0.0350 - acc: 0.9915 - val_loss: 0.2315 - val_acc: 0.9420\n",
            "Epoch 95/100\n",
            "100/100 [==============================] - 17s 175ms/step - loss: 0.0257 - acc: 0.9915 - val_loss: 0.5066 - val_acc: 0.9070\n",
            "Epoch 96/100\n",
            "100/100 [==============================] - 18s 177ms/step - loss: 0.0201 - acc: 0.9920 - val_loss: 0.2769 - val_acc: 0.9410\n",
            "Epoch 97/100\n",
            "100/100 [==============================] - 18s 180ms/step - loss: 0.0247 - acc: 0.9940 - val_loss: 0.3260 - val_acc: 0.9300\n",
            "Epoch 98/100\n",
            "100/100 [==============================] - 18s 175ms/step - loss: 0.0215 - acc: 0.9900 - val_loss: 0.2563 - val_acc: 0.9440\n",
            "Epoch 99/100\n",
            "100/100 [==============================] - 18s 175ms/step - loss: 0.0172 - acc: 0.9945 - val_loss: 0.2726 - val_acc: 0.9410\n",
            "Epoch 100/100\n",
            "100/100 [==============================] - 18s 176ms/step - loss: 0.0090 - acc: 0.9975 - val_loss: 0.2339 - val_acc: 0.9420\n"
          ],
          "name": "stdout"
        }
      ]
    },
    {
      "cell_type": "code",
      "metadata": {
        "id": "l5WFnvA1OwsK",
        "colab_type": "code",
        "colab": {}
      },
      "source": [
        "model.save('cats_and_dogs_small_4.h5')"
      ],
      "execution_count": 0,
      "outputs": []
    },
    {
      "cell_type": "markdown",
      "metadata": {
        "id": "lthExw6rOwsM",
        "colab_type": "text"
      },
      "source": [
        "Let's plot our results using the same plotting code as before:"
      ]
    },
    {
      "cell_type": "code",
      "metadata": {
        "id": "YPZLJS-KOwsM",
        "colab_type": "code",
        "colab": {
          "base_uri": "https://localhost:8080/",
          "height": 545
        },
        "outputId": "6bf7790f-8347-4019-9794-083e6943e9e7"
      },
      "source": [
        "acc = history.history['acc']\n",
        "val_acc = history.history['val_acc']\n",
        "loss = history.history['loss']\n",
        "val_loss = history.history['val_loss']\n",
        "\n",
        "epochs = range(len(acc))\n",
        "\n",
        "plt.plot(epochs, acc, 'bo', label='Training acc')\n",
        "plt.plot(epochs, val_acc, 'b', label='Validation acc')\n",
        "plt.title('Training and validation accuracy')\n",
        "plt.legend()\n",
        "\n",
        "plt.figure()\n",
        "\n",
        "plt.plot(epochs, loss, 'bo', label='Training loss')\n",
        "plt.plot(epochs, val_loss, 'b', label='Validation loss')\n",
        "plt.title('Training and validation loss')\n",
        "plt.legend()\n",
        "\n",
        "plt.show()"
      ],
      "execution_count": 49,
      "outputs": [
        {
          "output_type": "display_data",
          "data": {
            "image/png": "[encoded data removed]",
            "text/plain": [
              "<Figure size 432x288 with 1 Axes>"
            ]
          },
          "metadata": {
            "tags": []
          }
        },
        {
          "output_type": "display_data",
          "data": {
            "image/png": "[encoded data removed]",
            "text/plain": [
              "<Figure size 432x288 with 1 Axes>"
            ]
          },
          "metadata": {
            "tags": []
          }
        }
      ]
    },
    {
      "cell_type": "markdown",
      "metadata": {
        "id": "v-T8nfo1OwsS",
        "colab_type": "text"
      },
      "source": [
        "\n",
        "These curves look very noisy. To make them more readable, we can smooth them by replacing every loss and accuracy with exponential moving \n",
        "averages of these quantities. Here's a trivial utility function to do this:"
      ]
    },
    {
      "cell_type": "code",
      "metadata": {
        "id": "xKaxGmv8OwsT",
        "colab_type": "code",
        "colab": {},
        "outputId": "aa499349-2ca6-472e-ce97-b41220303da6"
      },
      "source": [
        "def smooth_curve(points, factor=0.8):\n",
        "  smoothed_points = []\n",
        "  for point in points:\n",
        "    if smoothed_points:\n",
        "      previous = smoothed_points[-1]\n",
        "      smoothed_points.append(previous * factor + point * (1 - factor))\n",
        "    else:\n",
        "      smoothed_points.append(point)\n",
        "  return smoothed_points\n",
        "\n",
        "plt.plot(epochs,\n",
        "         smooth_curve(acc), 'bo', label='Smoothed training acc')\n",
        "plt.plot(epochs,\n",
        "         smooth_curve(val_acc), 'b', label='Smoothed validation acc')\n",
        "plt.title('Training and validation accuracy')\n",
        "plt.legend()\n",
        "\n",
        "plt.figure()\n",
        "\n",
        "plt.plot(epochs,\n",
        "         smooth_curve(loss), 'bo', label='Smoothed training loss')\n",
        "plt.plot(epochs,\n",
        "         smooth_curve(val_loss), 'b', label='Smoothed validation loss')\n",
        "plt.title('Training and validation loss')\n",
        "plt.legend()\n",
        "\n",
        "plt.show()"
      ],
      "execution_count": 0,
      "outputs": [
        {
          "output_type": "display_data",
          "data": {
            "image/png": "[encoded data removed]",
            "text/plain": [
              "<matplotlib.figure.Figure at 0x7fd53cc076d8>"
            ]
          },
          "metadata": {
            "tags": []
          }
        },
        {
          "output_type": "display_data",
          "data": {
            "image/png": "[encoded data removed]",
            "text/plain": [
              "<matplotlib.figure.Figure at 0x7fd53cbf15c0>"
            ]
          },
          "metadata": {
            "tags": []
          }
        }
      ]
    },
    {
      "cell_type": "markdown",
      "metadata": {
        "id": "UYGgW-ZEOwsZ",
        "colab_type": "text"
      },
      "source": [
        "\n",
        "These curves look much cleaner and more stable. We are seeing a nice 1% absolute improvement.\n",
        "\n",
        "Note that the loss curve does not show any real improvement (in fact, it is deteriorating). You may wonder, how could accuracy improve if the \n",
        "loss isn't decreasing? The answer is simple: what we display is an average of pointwise loss values, but what actually matters for accuracy \n",
        "is the distribution of the loss values, not their average, since accuracy is the result of a binary thresholding of the class probability \n",
        "predicted by the model. The model may still be improving even if this isn't reflected in the average loss.\n",
        "\n",
        "We can now finally evaluate this model on the test data:"
      ]
    },
    {
      "cell_type": "code",
      "metadata": {
        "id": "mN7GNgkqOwsb",
        "colab_type": "code",
        "colab": {},
        "outputId": "f79996ef-49aa-4d9d-fd6d-85121992a5bc"
      },
      "source": [
        "test_generator = test_datagen.flow_from_directory(\n",
        "        test_dir,\n",
        "        target_size=(150, 150),\n",
        "        batch_size=20,\n",
        "        class_mode='binary')\n",
        "\n",
        "test_loss, test_acc = model.evaluate_generator(test_generator, steps=50)\n",
        "print('test acc:', test_acc)"
      ],
      "execution_count": 0,
      "outputs": [
        {
          "output_type": "stream",
          "text": [
            "Found 1000 images belonging to 2 classes.\n",
            "test acc: 0.967999992371\n"
          ],
          "name": "stdout"
        }
      ]
    },
    {
      "cell_type": "markdown",
      "metadata": {
        "id": "5Fa_TEjlOwse",
        "colab_type": "text"
      },
      "source": [
        "\n",
        "Here we get a test accuracy of 97%. In the original Kaggle competition around this dataset, this would have been one of the top results. \n",
        "However, using modern deep learning techniques, we managed to reach this result using only a very small fraction of the training data \n",
        "available (about 10%). There is a huge difference between being able to train on 20,000 samples compared to 2,000 samples!"
      ]
    },
    {
      "cell_type": "markdown",
      "metadata": {
        "id": "2uYs66DPOwse",
        "colab_type": "text"
      },
      "source": [
        "## Take-aways: using convnets with small datasets\n",
        "\n",
        "Here's what you should take away from the exercises of these past two sections:\n",
        "\n",
        "* Convnets are the best type of machine learning models for computer vision tasks. It is possible to train one from scratch even on a very \n",
        "small dataset, with decent results.\n",
        "* On a small dataset, overfitting will be the main issue. Data augmentation is a powerful way to fight overfitting when working with image \n",
        "data.\n",
        "* It is easy to reuse an existing convnet on a new dataset, via feature extraction. This is a very valuable technique for working with \n",
        "small image datasets.\n",
        "* As a complement to feature extraction, one may use fine-tuning, which adapts to a new problem some of the representations previously \n",
        "learned by an existing model. This pushes performance a bit further.\n",
        "\n",
        "Now you have a solid set of tools for dealing with image classification problems, in particular with small datasets."
      ]
    }
  ]
}